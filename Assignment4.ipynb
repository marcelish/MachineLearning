{
 "cells": [
  {
   "cell_type": "code",
   "execution_count": 2,
   "metadata": {},
   "outputs": [
    {
     "name": "stderr",
     "output_type": "stream",
     "text": [
      "C:\\Users\\Rayad\\AppData\\Local\\Temp\\ipykernel_13260\\2621588538.py:8: RuntimeWarning: divide by zero encountered in divide\n",
      "  return (1 - r)/(r)\n"
     ]
    }
   ],
   "source": [
    "from pylab import *\n",
    "matplotlib.use('TkAgg') \n",
    "\n",
    "def xeq1(r):\n",
    "    return r - r \n",
    "\n",
    "def xeq2(r):\n",
    "    return (1 - r)/(r)\n",
    "\n",
    "domain = linspace(-10, 1)\n",
    "domain1 = linspace(1, 10)\n",
    "domain21 = linspace(-10, 0)\n",
    "domain2 = linspace(0,1)\n",
    "domain22 = linspace(1, 10)\n",
    "plot(domain, xeq1(domain), 'b-', linewidth = 3)\n",
    "plot(domain1, xeq1(domain1), 'r--', linewidth = 3)\n",
    "plot (domain21, xeq2(domain21), 'r--', linewidth = 3)\n",
    "plot (domain2, xeq2(domain2), 'r--', linewidth = 3)\n",
    "plot (domain22, xeq2(domain22), 'b-', linewidth = 3)\n",
    "plot([1],[0],'go')\n",
    "plot([0],[0],'go')\n",
    "title(\"Bifurcation Diagram\")\n",
    "xlabel('r')\n",
    "ylabel('x_eq')\n",
    "axis([-10, 10, -5, 5])\n",
    "grid()\n",
    "show()"
   ]
  }
 ],
 "metadata": {
  "kernelspec": {
   "display_name": "Python 3",
   "language": "python",
   "name": "python3"
  },
  "language_info": {
   "codemirror_mode": {
    "name": "ipython",
    "version": 3
   },
   "file_extension": ".py",
   "mimetype": "text/x-python",
   "name": "python",
   "nbconvert_exporter": "python",
   "pygments_lexer": "ipython3",
   "version": "3.11.5"
  }
 },
 "nbformat": 4,
 "nbformat_minor": 2
}
